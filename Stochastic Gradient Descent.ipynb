{
 "metadata": {
  "name": "Stochastic Gradient Descent"
 },
 "nbformat": 3,
 "nbformat_minor": 0,
 "worksheets": [
  {
   "cells": [
    {
     "cell_type": "code",
     "collapsed": false,
     "input": [
      "import scipy.io\n",
      "import pylab as pl\n",
      "import numpy as np\n",
      "from sklearn.linear_model import SGDClassifier\n",
      "from sklearn.datasets.samples_generator import make_regression\n",
      "\n",
      "X_Y = scipy.io.loadmat('model-stemmed.mat')\n",
      "\n",
      "#For efficiency concerns, we transformed the sparse matrix into Compressed Sparse Row Matrix.\n",
      "X = X_Y['Xstemmed']\n",
      "X = scipy.sparse.csr_matrix(X)\n",
      "Y = X_Y['yuniq']\n",
      "Y=Y[:,0]"
     ],
     "language": "python",
     "metadata": {},
     "outputs": [],
     "prompt_number": 1
    },
    {
     "cell_type": "code",
     "collapsed": false,
     "input": [
      "X_RowSum = X.sum(axis = 1)\n",
      "\n",
      "#Get all the index of sorted smap in decreasing order\n",
      "SmapSortedIndex_Dec= sorted(range(len(X_RowSum)),key=lambda x:X_RowSum[x],reverse = True)"
     ],
     "language": "python",
     "metadata": {},
     "outputs": [],
     "prompt_number": 2
    },
    {
     "cell_type": "code",
     "collapsed": false,
     "input": [
      "#High frequency words\n",
      "def truncate(s,k):\n",
      "    return (s[0:k])"
     ],
     "language": "python",
     "metadata": {},
     "outputs": [],
     "prompt_number": 3
    },
    {
     "cell_type": "code",
     "collapsed": false,
     "input": [
      "t_R = truncate(SmapSortedIndex_Dec,5000)"
     ],
     "language": "python",
     "metadata": {},
     "outputs": [],
     "prompt_number": 4
    },
    {
     "cell_type": "code",
     "collapsed": false,
     "input": [
      "#Stochastic Gradient Descent\n",
      "\n",
      "#X_Test = X[:,0:1000]\n",
      "#Y_Test = Y[0:1000]\n",
      "\n",
      "clf = SGDClassifier(alpha=0.0001, class_weight=None, eta0=0.0, fit_intercept=True,\n",
      "       learning_rate='optimal', loss='hinge', n_iter=1, n_jobs=1,\n",
      "       penalty='l2', power_t=0.5, rho=0.85, seed=0, shuffle=True,\n",
      "       verbose=0, warm_start=False)\n",
      "clf.fit(X[t_R,:].transpose(), Y)"
     ],
     "language": "python",
     "metadata": {},
     "outputs": [
      {
       "output_type": "pyout",
       "prompt_number": 12,
       "text": [
        "SGDClassifier(alpha=0.0001, class_weight=None, eta0=0.0, fit_intercept=True,\n",
        "       learning_rate='optimal', loss='hinge', n_iter=1, n_jobs=1,\n",
        "       penalty='l2', power_t=0.5, rho=0.85, seed=0, shuffle=True,\n",
        "       verbose=0, warm_start=False)"
       ]
      }
     ],
     "prompt_number": 12
    },
    {
     "cell_type": "code",
     "collapsed": false,
     "input": [
      "param = clf.coef_\n",
      "#print np.array(clf.predict(X[t_R].transpose()),dtype = 'int8') - np.array(Y,dtype='int8')"
     ],
     "language": "python",
     "metadata": {},
     "outputs": [],
     "prompt_number": 13
    },
    {
     "cell_type": "code",
     "collapsed": false,
     "input": [
      "#Distinct sets of parameters corresponding to scores 1,2,4,5\n",
      "param_1 = param[0]\n",
      "param_2 = param[1]\n",
      "param_4 = param[2]\n",
      "param_5 = param[3]\n",
      "param_index_1 = sorted(range(len(param_1)),key=lambda x:param_1[x],reverse = True)\n",
      "param_index_2 = sorted(range(len(param_2)),key=lambda x:param_2[x],reverse = True)\n",
      "param_index_4 = sorted(range(len(param_4)),key=lambda x:param_4[x],reverse = True)\n",
      "param_index_5 = sorted(range(len(param_5)),key=lambda x:param_5[x],reverse = True)"
     ],
     "language": "python",
     "metadata": {},
     "outputs": [],
     "prompt_number": 14
    },
    {
     "cell_type": "code",
     "collapsed": false,
     "input": [
      "smap = scipy.io.loadmat('smap.mat')\n",
      "stemmedSmap = scipy.io.loadmat('stemmedSmap.mat')\n",
      "uniqToSmap = stemmedSmap['uniqToSmap']\n",
      "smap = smap['smap']"
     ],
     "language": "python",
     "metadata": {},
     "outputs": [],
     "prompt_number": 15
    },
    {
     "cell_type": "code",
     "collapsed": false,
     "input": [
      "#Construct Smap dictionary\n",
      "dicsmap = dict()\n",
      "for i in range(len(smap)):\n",
      "    temp = {(i+1):str(smap[:,0][i])[3:-2]}\n",
      "    dicsmap.update(temp)"
     ],
     "language": "python",
     "metadata": {},
     "outputs": [],
     "prompt_number": 16
    },
    {
     "cell_type": "code",
     "collapsed": false,
     "input": [
      "#Construct Uniq to Smap dictionary\n",
      "dicuts = dict()\n",
      "for i in range(len(uniqToSmap)):\n",
      "    temp = {(i+1):uniqToSmap[:,0][i]}\n",
      "    dicuts.update(temp)"
     ],
     "language": "python",
     "metadata": {},
     "outputs": [],
     "prompt_number": 17
    },
    {
     "cell_type": "code",
     "collapsed": false,
     "input": [
      "#Top ten influential words corresponding to each scores\n",
      "#Score = 1\n",
      "for k in param_index_1[0:10]:\n",
      "    if k in dicuts:\n",
      "        print dicsmap[dicuts[k]]\n",
      "#Score = 2\n",
      "print \"\\n\"\n",
      "for k in param_index_2[0:10]:\n",
      "    if k in dicuts:\n",
      "        print dicsmap[dicuts[k]]\n",
      "#Score = 4\n",
      "print \"\\n\"\n",
      "for k in param_index_4[0:10]:\n",
      "    if k in dicuts:\n",
      "        print dicsmap[dicuts[k]]\n",
      "#Score = 5\n",
      "print \"\\n\"\n",
      "for k in param_index_5[0:10]:\n",
      "    if k in dicuts:\n",
      "        print dicsmap[dicuts[k]]"
     ],
     "language": "python",
     "metadata": {},
     "outputs": [
      {
       "output_type": "stream",
       "stream": "stdout",
       "text": [
        "ascension\n",
        "ailing\n",
        "brother\n",
        "cobb\n",
        "elisabeth\n",
        "dover\n",
        "crumbling\n",
        "bewildered\n",
        "ecology\n",
        "claudio\n",
        "\n",
        "\n",
        "decrease\n",
        "fiend\n",
        "circumstances\n",
        "finer\n",
        "charisma\n",
        "claudio\n",
        "erroneous\n",
        "ecstatic\n",
        "cape\n",
        "flo\n",
        "\n",
        "\n",
        "dante\n",
        "exposition\n",
        "bowden\n",
        "barbaric\n",
        "arbitrary\n",
        "cronin\n",
        "edda\n",
        "elie\n",
        "eaters\n",
        "barbecue\n",
        "\n",
        "\n",
        "dalai\n",
        "background\n",
        "discomfort\n",
        "drove\n",
        "avalon\n",
        "evolutionists\n",
        "exuberance\n",
        "colbert\n",
        "blade\n",
        "enacted\n"
       ]
      }
     ],
     "prompt_number": 18
    },
    {
     "cell_type": "code",
     "collapsed": false,
     "input": [
      "#Cross-Validation: 10-Fold\n",
      "import numpy as np\n",
      "a = set(range(0,488012))\n",
      "b = np.array(range(0,48802))\n",
      "Z = X[t_R]\n",
      "diff = np.array()\n",
      "clf = SGDClassifier(alpha=0.0001, class_weight=None, eta0=0.0, fit_intercept=True,\n",
      "       learning_rate='optimal', loss='hinge', n_iter=5, n_jobs=1,\n",
      "       penalty='l2', power_t=0.5, rho=0.85, seed=0, shuffle=True,\n",
      "       verbose=0, warm_start=False)\n",
      "for j in range(0,10):\n",
      "    clf.fit(Z[:,list(a - set(j*48801+b))].transpose(), Y[list(a - set(j*48801+b))])\n",
      "    print np.array(Y[list(set(j*48801+b))],dtype='int8') - np.array(clf.predict(Z[:,list(set(j*48801+b))].transpose()),dtype='int8')\n"
     ],
     "language": "python",
     "metadata": {},
     "outputs": [
      {
       "output_type": "stream",
       "stream": "stdout",
       "text": [
        "[-2  1 -4 ...,  0  0  0]\n",
        "[0 0 0 ..., 0 0 0]"
       ]
      },
      {
       "output_type": "stream",
       "stream": "stdout",
       "text": [
        "\n",
        "[-1 -1  0 ...,  0 -1  0]"
       ]
      },
      {
       "output_type": "stream",
       "stream": "stdout",
       "text": [
        "\n",
        "[ 0 -1  0 ...,  0 -1  0]"
       ]
      },
      {
       "output_type": "stream",
       "stream": "stdout",
       "text": [
        "\n",
        "[0 0 0 ..., 0 0 0]"
       ]
      },
      {
       "output_type": "stream",
       "stream": "stdout",
       "text": [
        "\n",
        "[ 0  0 -1 ..., -1 -1 -3]"
       ]
      },
      {
       "output_type": "stream",
       "stream": "stdout",
       "text": [
        "\n",
        "[ 0 -1  0 ..., -4  0  0]"
       ]
      },
      {
       "output_type": "stream",
       "stream": "stdout",
       "text": [
        "\n",
        "[ 0  0  0 ...,  0  0 -1]"
       ]
      },
      {
       "output_type": "stream",
       "stream": "stdout",
       "text": [
        "\n",
        "[ 0 -1  0 ...,  0  0  1]"
       ]
      },
      {
       "output_type": "stream",
       "stream": "stdout",
       "text": [
        "\n",
        "[-1 -3 -1 ...,  0  0  0]"
       ]
      },
      {
       "output_type": "stream",
       "stream": "stdout",
       "text": [
        "\n"
       ]
      }
     ],
     "prompt_number": 56
    },
    {
     "cell_type": "code",
     "collapsed": false,
     "input": [
      "#Ridge\n",
      "from sklearn.linear_model import Ridge\n",
      "clf = Ridge (alpha = .5)\n",
      "clf.fit (X[t_R,:].transpose(), Y) "
     ],
     "language": "python",
     "metadata": {},
     "outputs": [
      {
       "output_type": "pyout",
       "prompt_number": 35,
       "text": [
        "Ridge(alpha=0.5, copy_X=True, fit_intercept=True, normalize=False, tol=0.001)"
       ]
      }
     ],
     "prompt_number": 35
    },
    {
     "cell_type": "code",
     "collapsed": false,
     "input": [
      "par = sorted(range(len(clf.coef_)),key=lambda x:clf.coef_[x],reverse = True)"
     ],
     "language": "python",
     "metadata": {},
     "outputs": [],
     "prompt_number": 36
    },
    {
     "cell_type": "code",
     "collapsed": false,
     "input": [
      "for k in par[0:10]:\n",
      "    if k in dicuts:\n",
      "        print dicsmap[dicuts[k]]"
     ],
     "language": "python",
     "metadata": {},
     "outputs": [
      {
       "output_type": "stream",
       "stream": "stdout",
       "text": [
        "exuberance\n",
        "dalai\n",
        "background\n",
        "ball\n",
        "estimate\n",
        "feist\n",
        "avalon\n",
        "explicitly\n",
        "desmond\n",
        "140\n"
       ]
      }
     ],
     "prompt_number": 37
    }
   ],
   "metadata": {}
  }
 ]
}